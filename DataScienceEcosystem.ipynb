{
 "cells": [
  {
   "cell_type": "markdown",
   "id": "1ce63637-b6d0-44cf-8488-ab7daf957f02",
   "metadata": {},
   "source": [
    "# Data Science Tools and Ecosystems"
   ]
  },
  {
   "cell_type": "markdown",
   "id": "41cab280-341c-4622-834c-ff12e4259f3c",
   "metadata": {},
   "source": [
    "In this notebook, Data Science Tools and Ecosystem are summarized."
   ]
  },
  {
   "cell_type": "markdown",
   "id": "14a33e54-e918-4995-883c-c5515505773b",
   "metadata": {},
   "source": [
    "Some of the popular languages that Data Scientists use are:\n",
    "1. Python\n",
    "2. R\n",
    "3. Java"
   ]
  },
  {
   "cell_type": "markdown",
   "id": "723aebaa-3da5-4336-ac67-c593e578edb1",
   "metadata": {},
   "source": [
    "Some of the commonly used libraries used by Data Scientists include:\n",
    "1. NumPy\n",
    "2. Pandas\n",
    "3. SciKit-Learn"
   ]
  },
  {
   "cell_type": "markdown",
   "id": "15a67989-0ebb-48ce-b0d0-1e1258154c74",
   "metadata": {},
   "source": [
    "Data Science Tools\n",
    "-----------\n",
    "| Jupyter Notebooks|\n",
    "-----------\n",
    "| R Studio |\n",
    "-----------\n",
    "| Visual Studios |\n",
    "-----------"
   ]
  },
  {
   "cell_type": "markdown",
   "id": "29c85b4c-6e30-42c7-a348-ce320386803a",
   "metadata": {},
   "source": [
    "### Below are a few examples of evaluating arithmetic expressions in Python:"
   ]
  },
  {
   "cell_type": "code",
   "execution_count": 3,
   "id": "4c9f29e4-266d-4cdf-8f59-1af9db203941",
   "metadata": {},
   "outputs": [
    {
     "name": "stdout",
     "output_type": "stream",
     "text": [
      "17\n"
     ]
    }
   ],
   "source": [
    "##This a simple arithmetic expression to mutiply then add integers\n",
    "y= (3*4)+5\n",
    "print(y)"
   ]
  },
  {
   "cell_type": "code",
   "execution_count": 4,
   "id": "47bf8ef5-184e-48f4-a06d-840cafb6b841",
   "metadata": {},
   "outputs": [],
   "source": [
    "##This will convert 200 minutes to hours by diving by 60\n",
    "x= 200/60"
   ]
  },
  {
   "cell_type": "code",
   "execution_count": 5,
   "id": "27ac2ddc-4d9e-4960-b372-37bb316d637d",
   "metadata": {},
   "outputs": [
    {
     "name": "stdout",
     "output_type": "stream",
     "text": [
      "3.3333333333333335\n"
     ]
    }
   ],
   "source": [
    "print(x)"
   ]
  },
  {
   "cell_type": "markdown",
   "id": "b68a4f0f-7f22-468e-b9ae-334c6251fdf9",
   "metadata": {},
   "source": [
    "Objectives:\n",
    "- Common Data Science Languages\n",
    "- Common IDEs\n",
    "- Arithmetic expression examples"
   ]
  },
  {
   "cell_type": "markdown",
   "id": "d15da652-bdc8-47e3-8899-dd9e007852e3",
   "metadata": {},
   "source": [
    "## Author:\n",
    "Kelly P."
   ]
  },
  {
   "cell_type": "code",
   "execution_count": null,
   "id": "40ea0dd9-d2d2-4069-80b6-60dd7af0bf43",
   "metadata": {},
   "outputs": [],
   "source": []
  }
 ],
 "metadata": {
  "kernelspec": {
   "display_name": "Python 3 (ipykernel)",
   "language": "python",
   "name": "python3"
  },
  "language_info": {
   "codemirror_mode": {
    "name": "ipython",
    "version": 3
   },
   "file_extension": ".py",
   "mimetype": "text/x-python",
   "name": "python",
   "nbconvert_exporter": "python",
   "pygments_lexer": "ipython3",
   "version": "3.11.5"
  }
 },
 "nbformat": 4,
 "nbformat_minor": 5
}
